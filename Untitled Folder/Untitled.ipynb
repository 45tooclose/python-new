{
 "cells": [
  {
   "cell_type": "code",
   "execution_count": 146,
   "metadata": {},
   "outputs": [],
   "source": [
    "import io\n",
    "import re"
   ]
  },
  {
   "cell_type": "code",
   "execution_count": 147,
   "metadata": {},
   "outputs": [],
   "source": [
    "text = \"\"\n",
    "f_name = \"../main_text/Binance Flash Update!.txt\"\n",
    "with io.open(f_name,\"r\",encoding=\"utf-8\") as f:\n",
    "             text = f.read()"
   ]
  },
  {
   "cell_type": "code",
   "execution_count": 148,
   "metadata": {
    "scrolled": false
   },
   "outputs": [
    {
     "name": "stdout",
     "output_type": "stream",
     "text": [
      "\n",
      "Binance Flash Update!（2018/3/26–2018/4/1）24-Hour Volume Rankings by Exchange on Coinmarketcap Binance remained the №1 exchange by 24-Hour Trading Volumehttps://coinmarketcap.com/exchanges/volume/24-hour/24-Hour Volume Rankings by Cryptocurrency Market on Coinmarketcap Binance Coin remained the № 17 cryptocurrency market by 24-Hour Trading Volumehttps://coinmarketcap.com/ProductAPPUpdate new version: v1.4.5.Now supports stop-limit orders.Now supports unbinding Google Auth (2FA) and binding/unbinding SMS Authentication.Now supports entering withdrawal verification code to confirm.WebAdded new feature: Reset SMS Authentication.PCFavorites now supports ranking by ‘Name’ or ‘Volume’.ListingsQlink（QLC）(2018/3/26)QLC/BTC and QLC/ETH trading pairs are now available on Binance for trading.Max Supply: 600,000,000 QLCCirculating Supply: 240,000,000 QLCAbout QLC: https://info.binance.com/en/currencies/qlinkSyscoin（SYS）(2018/3/28)SYS/BNB, SYS/BTC and SYS/ETH trading pairs are now available on Binance for trading.Max Supply: 888,000,000 SYSCirculating Supply: 531,896,740 SYSAbout SYS: https://info.binance.com/en/currencies/syscoinWePower（WPR）(2018/3/29)WPR/BTC and WPR/ETH trading pairs are now available on Binance for trading.Max Supply: 745,248,183 WPRCirculating Supply: 355,695,760 WPRAbout WPR: https://info.binance.com/en/currencies/wepowerOnline ActivitiesQLC Competition — 3,000,000 QLC to Giveaway!https://support.binance.com/hc/en-us/articles/360002193152\n"
     ]
    }
   ],
   "source": [
    "print(text)\n"
   ]
  },
  {
   "cell_type": "code",
   "execution_count": 149,
   "metadata": {},
   "outputs": [
    {
     "name": "stdout",
     "output_type": "stream",
     "text": [
      "\n",
      "Binance Flash Update!（2018/3/26–2018/4/1）24-Hour Volume Rankings by Exchange on Coinmarketcap Binance remained the №1 exchange by 24-Hour Trading Volumehttps://coinmarketcap.com/exchanges/volume/24-hour/24-Hour Volume Rankings by Cryptocurrency Market on Coinmarketcap Binance Coin remained the № 17 cryptocurrency market by 24-Hour Trading Volumehttps://coinmarketcap.com/ProductAPP Update new version: v1.4.5.Now supports stop-limit orders.Now supports unbinding Google Auth (2FA) and binding/unbinding SMS Authentication.Now supports entering withdrawal verification code to confirm.WebAdded new feature: Reset SMS Authentication.PC Favorites now supports ranking by ‘Name’ or ‘Volume’.ListingsQlink（QLC）(2018/3/26)QLC/BTC and QLC/ETH trading pairs are now available on Binance for trading.Max Supply: 600,000,000 QLC Circulating Supply: 240,000,000 QLC About QLC: https://info.binance.com/en/currencies/qlinkSyscoin（SYS）(2018/3/28)SYS/BNB, SYS/BTC and SYS/ETH trading pairs are now available on Binance for trading.Max Supply: 888,000,000 SYS Circulating Supply: 531,896,740 SYS About SYS: https://info.binance.com/en/currencies/syscoinWePower（WPR）(2018/3/29)WPR/BTC and WPR/ETH trading pairs are now available on Binance for trading.Max Supply: 745,248,183 WPR Circulating Supply: 355,695,760 WPR About WPR: https://info.binance.com/en/currencies/wepowerOnline ActivitiesQLC Competition — 3,000,000 QLC to Giveaway!https://support.binance.com/hc/en-us/articles/360002193152\n"
     ]
    }
   ],
   "source": [
    "# pattern for detecting binded words 'XXYy' splitting them\n",
    "re_pattern_split ='(([A-Z]+([a-z])))'\n",
    "re_matches_split =re.findall(re_pattern_split,text)\n",
    "for match in re_matches_split:\n",
    "    if match[0].__len__()  > 2:\n",
    "      #  print(match[0])\n",
    "        fixed_match=match[0][:-2]+\" \"+match[0][-2:]\n",
    "        text= text.replace(match[0],fixed_match)\n",
    "print(text)"
   ]
  },
  {
   "cell_type": "code",
   "execution_count": 150,
   "metadata": {},
   "outputs": [
    {
     "name": "stdout",
     "output_type": "stream",
     "text": [
      "\n",
      "Binance Flash Update!（2018/3/26–2018/4/1）24-Hour Volume Rankings by Exchange on Coinmarketcap Binance remained the №1 exchange by 24-Hour Trading Volumehttps://coinmarketcap.com/exchanges/volume/24-hour/24-Hour Volume Rankings by Cryptocurrency Market on Coinmarketcap Binance Coin remained the № 17 cryptocurrency market by 24-Hour Trading Volumehttps://coinmarketcap.com/Product APP Update new version: v1.4.5.Now supports stop-limit orders.Now supports unbinding Google Auth (2FA) and binding/unbinding SMS Authentication.Now supports entering withdrawal verification code to confirm.Web Added new feature: Reset SMS Authentication.PC Favorites now supports ranking by ‘Name’ or ‘Volume’.Listings Qlink（QLC）(2018/3/26)QLC/BTC and QLC/ETH trading pairs are now available on Binance for trading.Max Supply: 600,000,000 QLC Circulating Supply: 240,000,000 QLC About QLC: https://info.binance.com/en/currencies/qlink Syscoin（SYS）(2018/3/28)SYS/BNB, SYS/BTC and SYS/ETH trading pairs are now available on Binance for trading.Max Supply: 888,000,000 SYS Circulating Supply: 531,896,740 SYS About SYS: https://info.binance.com/en/currencies/syscoin We Power（WPR）(2018/3/29)WPR/BTC and WPR/ETH trading pairs are now available on Binance for trading.Max Supply: 745,248,183 WPR Circulating Supply: 355,695,760 WPR About WPR: https://info.binance.com/en/currencies/wepower Online Activities QLC Competition — 3,000,000 QLC to Giveaway!https://support.binance.com/hc/en-us/articles/360002193152\n"
     ]
    }
   ],
   "source": [
    "# pattern for detecting binded words 'yyyXx' splitting them\n",
    "re_pattern_split ='(([a-z])+([A-Z]))'\n",
    "re_matches_split =re.findall(re_pattern_split,text)\n",
    "for match in re_matches_split:\n",
    "        fixed_match=match[0][:-1]+\" \"+match[0][-1]\n",
    "        text= text.replace(match[0],fixed_match)\n",
    "print(text)"
   ]
  },
  {
   "cell_type": "code",
   "execution_count": 151,
   "metadata": {},
   "outputs": [
    {
     "name": "stdout",
     "output_type": "stream",
     "text": [
      "\n",
      "Binance Flash Update!（2018/3/26–2018/4/1）24-Hour Volume Rankings by Exchange on Coinmarketcap Binance remained the №1 exchange by 24-Hour Trading Volume  Volume Rankings by Cryptocurrency Market on Coinmarketcap Binance Coin remained the № 17 cryptocurrency market by 24-Hour Trading Volume  APP Update new version: v1.4.5.Now supports stop-limit orders.Now supports unbinding Google Auth (2FA) and binding/unbinding SMS Authentication.Now supports entering withdrawal verification code to confirm.Web Added new feature: Reset SMS Authentication.PC Favorites now supports ranking by ‘Name’ or ‘Volume’.Listings Qlink（QLC）(2018/3/26)QLC/BTC and QLC/ETH trading pairs are now available on Binance for trading.Max Supply: 600,000,000 QLC Circulating Supply: 240,000,000 QLC About QLC:   Syscoin（SYS）(2018/3/28)SYS/BNB, SYS/BTC and SYS/ETH trading pairs are now available on Binance for trading.Max Supply: 888,000,000 SYS Circulating Supply: 531,896,740 SYS About SYS:   We Power（WPR）(2018/3/29)WPR/BTC and WPR/ETH trading pairs are now available on Binance for trading.Max Supply: 745,248,183 WPR Circulating Supply: 355,695,760 WPR About WPR:   Online Activities QLC Competition — 3,000,000 QLC to Giveaway! \n",
      "https://coinmarketcap.com/exchanges/volume/24-hour/24-Hour\n",
      "https://coinmarketcap.com/Product\n",
      "https://info.binance.com/en/currencies/qlink\n",
      "https://info.binance.com/en/currencies/syscoin\n",
      "https://info.binance.com/en/currencies/wepower\n",
      "https://support.binance.com/hc/en-us/articles/360002193152\n"
     ]
    }
   ],
   "source": [
    "#Detection of links\n",
    "\n",
    "# pattern for main site names 2 \n",
    "re_pattern_2='(http|ftp|https)\\:\\/\\/([\\w_-]+(?:(?:\\.[\\w_-]+)+))([\\w.,@?^=%&:/~+#-]*[\\w@?^=%&/~+#-])?'\n",
    "re_match = re.findall(re_pattern_2,text)\n",
    "links_list=[]\n",
    "for match in re_match:\n",
    "    # print(match[0],match[1],match[2])\n",
    "    match_str=''.join(match[0])+'://'\n",
    "    match_str+=''.join(match[1])\n",
    "    match_str+=''.join(match[2])\n",
    "    text=text.replace(match_str,\" \")\n",
    "    links_list.append(match_str)\n",
    "print(text)\n",
    "for v in links_list:\n",
    "    print(v)"
   ]
  },
  {
   "cell_type": "raw",
   "metadata": {},
   "source": [
    "print(text)"
   ]
  },
  {
   "cell_type": "code",
   "execution_count": 152,
   "metadata": {},
   "outputs": [],
   "source": [
    "#check if elements exists in list\n",
    "def is_unqiue(element,u_set):\n",
    "    if element in u_set:\n",
    "        return False\n",
    "    else:\n",
    "        return True"
   ]
  },
  {
   "cell_type": "code",
   "execution_count": 153,
   "metadata": {},
   "outputs": [
    {
     "name": "stdout",
     "output_type": "stream",
     "text": [
      "['!', '（', '/', '–', '）', '-', '№', ':', '.', '(', ')', '‘', '’', ',', '—']\n"
     ]
    }
   ],
   "source": [
    "# Finding special characters \n",
    "not_alnum=[]\n",
    "for char in text:\n",
    "    if not char.isalnum() and not char.isspace():\n",
    "        # print(char, char.isalnum(), char.isspace())\n",
    "        if not char in not_alnum:\n",
    "            not_alnum.append(char)\n",
    "        else:\n",
    "            pass\n",
    "print(not_alnum)"
   ]
  },
  {
   "cell_type": "code",
   "execution_count": null,
   "metadata": {},
   "outputs": [],
   "source": []
  },
  {
   "cell_type": "code",
   "execution_count": 161,
   "metadata": {},
   "outputs": [
    {
     "name": "stdout",
     "output_type": "stream",
     "text": [
      "\n",
      "Binance Flash Update!（2018/3/26–2018/4/1）24-Hour Volume Rankings by Exchange on Coinmarketcap Binance remained the №1 exchange by 24-Hour Trading Volume  Volume Rankings by Cryptocurrency Market on Coinmarketcap Binance Coin remained the № 17 cryptocurrency market by 24-Hour Trading Volume  APP Update new version: v1.4.5.Now supports stop-limit orders.Now supports unbinding Google Auth (2FA) and binding/unbinding SMS Authentication.Now supports entering withdrawal verification code to confirm.Web Added new feature: Reset SMS Authentication.PC Favorites now supports ranking by ‘Name’ or ‘Volume’.Listings Qlink（QLC）(2018/3/26)QLC/BTC and QLC/ETH trading pairs are now available on Binance for trading.Max Supply: 600,000,000 QLC Circulating Supply: 240,000,000 QLC About QLC:   Syscoin（SYS）(2018/3/28)SYS/BNB, SYS/BTC and SYS/ETH trading pairs are now available on Binance for trading.Max Supply: 888,000,000 SYS Circulating Supply: 531,896,740 SYS About SYS:   We Power（WPR）(2018/3/29)WPR/BTC and WPR/ETH trading pairs are now available on Binance for trading.Max Supply: 745,248,183 WPR Circulating Supply: 355,695,760 WPR About WPR:   Online Activities QLC Competition — 3,000,000 QLC to Giveaway! \n",
      "('2018/3/26', '2018', '/', '3', '/', '26')\n",
      "('2018/4/1', '2018', '/', '4', '/', '1')\n",
      "('2018/3/26', '2018', '/', '3', '/', '26')\n",
      "('2018/3/28', '2018', '/', '3', '/', '28')\n",
      "('2018/3/29', '2018', '/', '3', '/', '29')\n"
     ]
    }
   ],
   "source": [
    "#looking for dates using regex\n",
    "re_pattern_date='(([0-9]{2,4})(\\/|\\-|\\s)([0-9]{1,2})(\\/|\\-|\\s)([0-9]{1,4}))'\n",
    "re_match = re.findall(re_pattern_date,text)\n",
    "print(text)\n",
    "dates_list=[]\n",
    "for match in re_match:\n",
    "     print(match)\n",
    "#     match_str=''.join(match[0])+'://'\n",
    "#     match_str+=''.join(match[1])\n",
    "#     match_str+=''.join(match[2])\n",
    "#     text=text.replace(match_str,\" \")\n",
    "#     dates_list.append(match_str)"
   ]
  },
  {
   "cell_type": "code",
   "execution_count": null,
   "metadata": {},
   "outputs": [],
   "source": []
  }
 ],
 "metadata": {
  "kernelspec": {
   "display_name": "Python 3",
   "language": "python",
   "name": "python3"
  },
  "language_info": {
   "codemirror_mode": {
    "name": "ipython",
    "version": 3
   },
   "file_extension": ".py",
   "mimetype": "text/x-python",
   "name": "python",
   "nbconvert_exporter": "python",
   "pygments_lexer": "ipython3",
   "version": "3.6.5"
  }
 },
 "nbformat": 4,
 "nbformat_minor": 2
}
